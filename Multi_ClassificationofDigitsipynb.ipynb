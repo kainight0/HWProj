{
  "nbformat": 4,
  "nbformat_minor": 0,
  "metadata": {
    "colab": {
      "provenance": [],
      "authorship_tag": "ABX9TyP7e/Sg4TToVceUoIvBZDNU",
      "include_colab_link": true
    },
    "kernelspec": {
      "name": "python3",
      "display_name": "Python 3"
    },
    "language_info": {
      "name": "python"
    }
  },
  "cells": [
    {
      "cell_type": "markdown",
      "metadata": {
        "id": "view-in-github",
        "colab_type": "text"
      },
      "source": [
        "<a href=\"https://colab.research.google.com/github/kainight0/HWProj/blob/main/Multi_ClassificationofDigitsipynb.ipynb\" target=\"_parent\"><img src=\"https://colab.research.google.com/assets/colab-badge.svg\" alt=\"Open In Colab\"/></a>"
      ]
    },
    {
      "cell_type": "markdown",
      "source": [
        "**Load the Dataset**"
      ],
      "metadata": {
        "id": "t-y0qI1ATF2B"
      }
    },
    {
      "cell_type": "code",
      "execution_count": 66,
      "metadata": {
        "colab": {
          "base_uri": "https://localhost:8080/"
        },
        "id": "hh-uelKDQB-0",
        "outputId": "8e39e7f6-33fb-4ceb-f69d-3c7f1eccc160"
      },
      "outputs": [
        {
          "output_type": "stream",
          "name": "stdout",
          "text": [
            "       pixel1  pixel2  pixel3  pixel4  pixel5  pixel6  pixel7  pixel8  pixel9  \\\n",
            "0           0       0       0       0       0       0       0       0       0   \n",
            "1           0       0       0       0       0       0       0       0       0   \n",
            "2           0       0       0       0       0       0       0       0       0   \n",
            "3           0       0       0       0       0       0       0       0       0   \n",
            "4           0       0       0       0       0       0       0       0       0   \n",
            "...       ...     ...     ...     ...     ...     ...     ...     ...     ...   \n",
            "69995       0       0       0       0       0       0       0       0       0   \n",
            "69996       0       0       0       0       0       0       0       0       0   \n",
            "69997       0       0       0       0       0       0       0       0       0   \n",
            "69998       0       0       0       0       0       0       0       0       0   \n",
            "69999       0       0       0       0       0       0       0       0       0   \n",
            "\n",
            "       pixel10  ...  pixel775  pixel776  pixel777  pixel778  pixel779  \\\n",
            "0            0  ...         0         0         0         0         0   \n",
            "1            0  ...         0         0         0         0         0   \n",
            "2            0  ...         0         0         0         0         0   \n",
            "3            0  ...         0         0         0         0         0   \n",
            "4            0  ...         0         0         0         0         0   \n",
            "...        ...  ...       ...       ...       ...       ...       ...   \n",
            "69995        0  ...         0         0         0         0         0   \n",
            "69996        0  ...         0         0         0         0         0   \n",
            "69997        0  ...         0         0         0         0         0   \n",
            "69998        0  ...         0         0         0         0         0   \n",
            "69999        0  ...         0         0         0         0         0   \n",
            "\n",
            "       pixel780  pixel781  pixel782  pixel783  pixel784  \n",
            "0             0         0         0         0         0  \n",
            "1             0         0         0         0         0  \n",
            "2             0         0         0         0         0  \n",
            "3             0         0         0         0         0  \n",
            "4             0         0         0         0         0  \n",
            "...         ...       ...       ...       ...       ...  \n",
            "69995         0         0         0         0         0  \n",
            "69996         0         0         0         0         0  \n",
            "69997         0         0         0         0         0  \n",
            "69998         0         0         0         0         0  \n",
            "69999         0         0         0         0         0  \n",
            "\n",
            "[70000 rows x 784 columns] 0        5\n",
            "1        0\n",
            "2        4\n",
            "3        1\n",
            "4        9\n",
            "        ..\n",
            "69995    2\n",
            "69996    3\n",
            "69997    4\n",
            "69998    5\n",
            "69999    6\n",
            "Name: class, Length: 70000, dtype: category\n",
            "Categories (10, object): ['0', '1', '2', '3', ..., '6', '7', '8', '9']\n"
          ]
        }
      ],
      "source": [
        "from sklearn.datasets import fetch_openml\n",
        "\n",
        "mnist = fetch_openml('mnist_784')\n",
        "X, y = mnist.data, mnist.target\n",
        "\n",
        "print(X, y)"
      ]
    },
    {
      "cell_type": "markdown",
      "source": [
        "**Split Data into training and testing**"
      ],
      "metadata": {
        "id": "JVz8VqkLYY6i"
      }
    },
    {
      "cell_type": "code",
      "source": [
        "from sklearn.model_selection import train_test_split\n",
        "\n",
        "X_train, X_test, y_train, y_test = train_test_split(X, y, random_state=42)\n",
        "\n",
        "print(X.shape, '\\n')\n",
        "print(y.shape)"
      ],
      "metadata": {
        "colab": {
          "base_uri": "https://localhost:8080/"
        },
        "id": "CHdNJXWhYwJz",
        "outputId": "562cabce-4d6d-42e3-ab40-344419ca242c"
      },
      "execution_count": 67,
      "outputs": [
        {
          "output_type": "stream",
          "name": "stdout",
          "text": [
            "(70000, 784) \n",
            "\n",
            "(70000,)\n"
          ]
        }
      ]
    },
    {
      "cell_type": "markdown",
      "source": [
        "**Train and Test set sizes**"
      ],
      "metadata": {
        "id": "Sk_vjz9_a35C"
      }
    },
    {
      "cell_type": "code",
      "source": [
        "X_train.shape\n"
      ],
      "metadata": {
        "colab": {
          "base_uri": "https://localhost:8080/"
        },
        "id": "PcojQQUQa9Nr",
        "outputId": "be3ea90a-912c-46bf-fd74-5e08e19749bb"
      },
      "execution_count": 68,
      "outputs": [
        {
          "output_type": "execute_result",
          "data": {
            "text/plain": [
              "(52500, 784)"
            ]
          },
          "metadata": {},
          "execution_count": 68
        }
      ]
    },
    {
      "cell_type": "code",
      "source": [
        "X_test.shape"
      ],
      "metadata": {
        "colab": {
          "base_uri": "https://localhost:8080/"
        },
        "id": "CAd7K6AgbWOA",
        "outputId": "bf16d2f9-f29a-4da3-e189-557b64ad3c68"
      },
      "execution_count": 69,
      "outputs": [
        {
          "output_type": "execute_result",
          "data": {
            "text/plain": [
              "(17500, 784)"
            ]
          },
          "metadata": {},
          "execution_count": 69
        }
      ]
    },
    {
      "cell_type": "markdown",
      "source": [
        "**Apply StandardScalar**"
      ],
      "metadata": {
        "id": "EPuRs9iybZel"
      }
    },
    {
      "cell_type": "code",
      "source": [
        "from sklearn.preprocessing import StandardScaler\n",
        "\n",
        "scaler = StandardScaler()\n",
        "X_train_scaled = scaler.fit_transform(X_train)\n",
        "X_test_scaled = scaler.transform(X_test)\n",
        "\n",
        "print(X_train_scaled, '\\n')\n",
        "print(X_test_scaled)"
      ],
      "metadata": {
        "colab": {
          "base_uri": "https://localhost:8080/"
        },
        "id": "OhWv3VcHbnde",
        "outputId": "378a4b33-b76e-49ac-d155-73356ece1160"
      },
      "execution_count": 70,
      "outputs": [
        {
          "output_type": "stream",
          "name": "stdout",
          "text": [
            "[[0. 0. 0. ... 0. 0. 0.]\n",
            " [0. 0. 0. ... 0. 0. 0.]\n",
            " [0. 0. 0. ... 0. 0. 0.]\n",
            " ...\n",
            " [0. 0. 0. ... 0. 0. 0.]\n",
            " [0. 0. 0. ... 0. 0. 0.]\n",
            " [0. 0. 0. ... 0. 0. 0.]] \n",
            "\n",
            "[[0. 0. 0. ... 0. 0. 0.]\n",
            " [0. 0. 0. ... 0. 0. 0.]\n",
            " [0. 0. 0. ... 0. 0. 0.]\n",
            " ...\n",
            " [0. 0. 0. ... 0. 0. 0.]\n",
            " [0. 0. 0. ... 0. 0. 0.]\n",
            " [0. 0. 0. ... 0. 0. 0.]]\n"
          ]
        }
      ]
    },
    {
      "cell_type": "markdown",
      "source": [
        "**Apply PCA (0.95)**"
      ],
      "metadata": {
        "id": "WyLu8v4HcF2d"
      }
    },
    {
      "cell_type": "code",
      "source": [
        "from sklearn.decomposition import PCA\n",
        "\n",
        "pca = PCA(n_components=0.95)\n",
        "X_train_pca = pca.fit_transform(X_train_scaled)\n",
        "X_test_pca = pca.transform(X_test_scaled)\n",
        "\n",
        "print(X_train_pca, '\\n')\n",
        "print(X_test_pca)"
      ],
      "metadata": {
        "colab": {
          "base_uri": "https://localhost:8080/"
        },
        "id": "sIqUnxlecHyG",
        "outputId": "bb0500d1-2657-4571-ae1e-ed4693bf0a29"
      },
      "execution_count": 71,
      "outputs": [
        {
          "output_type": "stream",
          "name": "stdout",
          "text": [
            "[[ -2.43336393  -4.97226619   2.22305227 ...  -0.35642998  -0.26430805\n",
            "    0.16919625]\n",
            " [ -4.26863722  -1.25481969   6.9851188  ...  -0.21683656   0.31639462\n",
            "    0.04447375]\n",
            " [  4.41421515 -11.74118614  -2.91896097 ...   0.05455381  -0.12083639\n",
            "    0.50879022]\n",
            " ...\n",
            " [ -8.34031769  -1.2239553    2.02452836 ...  -0.08314796  -0.55998957\n",
            "   -0.12466435]\n",
            " [ 10.47035711  -9.04170739  -2.18982649 ...  -0.42528394  -0.02999969\n",
            "   -0.03885701]\n",
            " [ 10.54023438 -12.40911822   2.85846299 ...  -0.78242252  -0.37889057\n",
            "    0.22626387]] \n",
            "\n",
            "[[ 4.96711553e+00 -1.47426985e+00  9.47959523e-01 ...  7.02062302e-01\n",
            "   1.09349710e+00  3.85111866e-01]\n",
            " [-3.08513674e+00  4.29508636e+00 -3.65563811e+00 ... -1.93989025e-01\n",
            "  -3.53105169e-01 -9.22919826e-02]\n",
            " [-4.11762550e-01  7.86794866e+00  3.13203815e+00 ...  9.79587823e-02\n",
            "  -1.08374951e-01  9.56709167e-01]\n",
            " ...\n",
            " [ 3.77470434e+00  4.71804760e+00  1.43590668e+00 ...  4.00648951e-02\n",
            "   2.06437374e-01  3.52783828e-01]\n",
            " [ 5.63983088e+00  4.42857705e+00 -9.34776858e+00 ... -1.47153042e-01\n",
            "  -6.35401522e-01  3.78397097e-01]\n",
            " [ 1.66162715e+00 -4.99928728e+00  1.91159909e-01 ... -7.88928117e-01\n",
            "   6.68580102e-04  3.71245605e-01]]\n"
          ]
        }
      ]
    },
    {
      "cell_type": "markdown",
      "source": [
        "**Apply logistic regression, Get the accuracy score, and Compare time with PCA and without PCA**"
      ],
      "metadata": {
        "id": "E7LiA32lc83n"
      }
    },
    {
      "cell_type": "code",
      "source": [
        "from sklearn.linear_model import LogisticRegression\n",
        "import time\n",
        "\n",
        "print('With PCA')\n",
        "start = time.time()\n",
        "logisticRegr = LogisticRegression(solver = 'lbfgs', max_iter=1000)\n",
        "logisticRegr.fit(X_train_pca, y_train)\n",
        "\n",
        "print('Training accuracy: ', logisticRegr.score(X_train_pca, y_train))\n",
        "print('Testing accuracy: ', logisticRegr.score(X_test_pca, y_test))\n",
        "end = time.time()\n",
        "\n",
        "print('Time: ', end - start, 'seconds\\n')\n",
        "\n",
        "print('Without PCA')\n",
        "start = time.time()\n",
        "logisticRegr_no_pca = LogisticRegression(solver='lbfgs', max_iter=1000)\n",
        "logisticRegr_no_pca.fit(X_train_scaled, y_train)\n",
        "\n",
        "print('Training Accuracy: ', logisticRegr_no_pca.score(X_train_scaled, y_train))\n",
        "print('Testing Accuracy: ', logisticRegr_no_pca.score(X_test_scaled, y_test))\n",
        "end = time.time()\n",
        "\n",
        "print('Time without PCA:', end - start, 'seconds')"
      ],
      "metadata": {
        "colab": {
          "base_uri": "https://localhost:8080/"
        },
        "id": "ShLv5aqCdAjt",
        "outputId": "8ef70d8e-e5eb-4eb2-adb2-ed5cf923e383"
      },
      "execution_count": 72,
      "outputs": [
        {
          "output_type": "stream",
          "name": "stdout",
          "text": [
            "With PCA\n",
            "Training accuracy:  0.9365714285714286\n",
            "Testing accuracy:  0.9223428571428571\n",
            "Time:  42.61367058753967 seconds\n",
            "\n",
            "Without PCA\n",
            "Training Accuracy:  0.9459809523809524\n",
            "Testing Accuracy:  0.9164\n",
            "Time without PCA: 73.10807013511658 seconds\n"
          ]
        }
      ]
    }
  ]
}